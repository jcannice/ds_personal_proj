{
  "nbformat": 4,
  "nbformat_minor": 0,
  "metadata": {
    "colab": {
      "name": "OpenTable_EDA.ipynb",
      "provenance": []
    },
    "kernelspec": {
      "name": "python3",
      "display_name": "Python 3"
    },
    "language_info": {
      "name": "python"
    }
  },
  "cells": [
    {
      "cell_type": "code",
      "metadata": {
        "id": "Mj4E9pCCyisG"
      },
      "source": [
        "import pandas as pd\n",
        "import matplotlib.pyplot as plt\n",
        "import seaborn as sns\n",
        "import numpy as np"
      ],
      "execution_count": 76,
      "outputs": []
    },
    {
      "cell_type": "code",
      "metadata": {
        "id": "3YQMa7eT2aM0"
      },
      "source": [
        "bay_df = pd.read_csv('/content/drive/MyDrive/ds_personal_proj/bay_df.csv')\n",
        "bay_df = bay_df.drop('Unnamed: 0', axis=1)"
      ],
      "execution_count": 77,
      "outputs": []
    },
    {
      "cell_type": "code",
      "metadata": {
        "colab": {
          "base_uri": "https://localhost:8080/",
          "height": 204
        },
        "id": "xY2xaj662v9P",
        "outputId": "86f875ce-4ab2-41f4-febe-344202c65c20"
      },
      "source": [
        "bay_df.head()"
      ],
      "execution_count": 78,
      "outputs": [
        {
          "output_type": "execute_result",
          "data": {
            "text/html": [
              "<div>\n",
              "<style scoped>\n",
              "    .dataframe tbody tr th:only-of-type {\n",
              "        vertical-align: middle;\n",
              "    }\n",
              "\n",
              "    .dataframe tbody tr th {\n",
              "        vertical-align: top;\n",
              "    }\n",
              "\n",
              "    .dataframe thead th {\n",
              "        text-align: right;\n",
              "    }\n",
              "</style>\n",
              "<table border=\"1\" class=\"dataframe\">\n",
              "  <thead>\n",
              "    <tr style=\"text-align: right;\">\n",
              "      <th></th>\n",
              "      <th>Name</th>\n",
              "      <th>City</th>\n",
              "      <th>Rating</th>\n",
              "      <th>Review Count</th>\n",
              "      <th>Promoted</th>\n",
              "      <th>Price</th>\n",
              "      <th>Cuisine</th>\n",
              "      <th>Position</th>\n",
              "      <th>Median Household Income (USD)</th>\n",
              "    </tr>\n",
              "  </thead>\n",
              "  <tbody>\n",
              "    <tr>\n",
              "      <th>0</th>\n",
              "      <td>Alley &amp; Vine</td>\n",
              "      <td>Alameda</td>\n",
              "      <td>4.6</td>\n",
              "      <td>131.0</td>\n",
              "      <td>0.0</td>\n",
              "      <td>3.0</td>\n",
              "      <td>Contemporary American</td>\n",
              "      <td>28.0</td>\n",
              "      <td>104756</td>\n",
              "    </tr>\n",
              "    <tr>\n",
              "      <th>1</th>\n",
              "      <td>Forbidden Island Tiki Lounge</td>\n",
              "      <td>Alameda</td>\n",
              "      <td>4.8</td>\n",
              "      <td>118.0</td>\n",
              "      <td>0.0</td>\n",
              "      <td>2.0</td>\n",
              "      <td>Cocktail Bar</td>\n",
              "      <td>31.0</td>\n",
              "      <td>104756</td>\n",
              "    </tr>\n",
              "    <tr>\n",
              "      <th>2</th>\n",
              "      <td>The Park Street Tavern</td>\n",
              "      <td>Alameda</td>\n",
              "      <td>4.7</td>\n",
              "      <td>289.0</td>\n",
              "      <td>0.0</td>\n",
              "      <td>3.0</td>\n",
              "      <td>Mediterranean</td>\n",
              "      <td>32.0</td>\n",
              "      <td>104756</td>\n",
              "    </tr>\n",
              "    <tr>\n",
              "      <th>3</th>\n",
              "      <td>The Star on Park</td>\n",
              "      <td>Alameda</td>\n",
              "      <td>4.8</td>\n",
              "      <td>254.0</td>\n",
              "      <td>0.0</td>\n",
              "      <td>2.0</td>\n",
              "      <td>Pizzeria</td>\n",
              "      <td>40.0</td>\n",
              "      <td>104756</td>\n",
              "    </tr>\n",
              "    <tr>\n",
              "      <th>4</th>\n",
              "      <td>Trabocco</td>\n",
              "      <td>Alameda</td>\n",
              "      <td>4.8</td>\n",
              "      <td>2607.0</td>\n",
              "      <td>0.0</td>\n",
              "      <td>3.0</td>\n",
              "      <td>Contemporary Italian</td>\n",
              "      <td>47.0</td>\n",
              "      <td>104756</td>\n",
              "    </tr>\n",
              "  </tbody>\n",
              "</table>\n",
              "</div>"
            ],
            "text/plain": [
              "                           Name  ... Median Household Income (USD)\n",
              "0                  Alley & Vine  ...                        104756\n",
              "1  Forbidden Island Tiki Lounge  ...                        104756\n",
              "2        The Park Street Tavern  ...                        104756\n",
              "3              The Star on Park  ...                        104756\n",
              "4                      Trabocco  ...                        104756\n",
              "\n",
              "[5 rows x 9 columns]"
            ]
          },
          "metadata": {
            "tags": []
          },
          "execution_count": 78
        }
      ]
    },
    {
      "cell_type": "code",
      "metadata": {
        "id": "1H3d3lVieFy6",
        "colab": {
          "base_uri": "https://localhost:8080/"
        },
        "outputId": "c6ae5bdd-3c8e-49d2-dc44-8a627274a21f"
      },
      "source": [
        "for r in bay_df.Cuisine.value_counts().index:\n",
        "  print(r)\n",
        "\n",
        "# Combine categories\n",
        "# 1. Italian\n",
        "# 2. American: American, Californian, Contemporary American\n",
        "# 3. Seafood\n",
        "# 4. Japanese\n",
        "# 5. French\n",
        "# 6. Mediterranean\n",
        "# 7. Steakhouse\n",
        "# 8. Mexican\n",
        "# 9. Indian"
      ],
      "execution_count": 79,
      "outputs": [
        {
          "output_type": "stream",
          "text": [
            "Italian\n",
            "American\n",
            "Californian\n",
            "Seafood\n",
            "Contemporary American\n",
            "Japanese\n",
            "French\n",
            "Mediterranean\n",
            "Steakhouse\n",
            "Mexican\n",
            "Indian\n",
            "Tapas / Small Plates\n",
            "Thai\n",
            "Asian\n",
            "Peruvian\n",
            "Chinese\n",
            "Spanish\n",
            "Greek\n",
            "Sushi\n",
            "Brazilian Steakhouse\n",
            "Steak\n",
            "Vietnamese\n",
            "Pizzeria\n",
            "Gastro Pub\n",
            "Latin American\n",
            "Turkish\n",
            "Burmese\n",
            "Contemporary Mexican\n",
            "Contemporary Indian\n",
            "Dim Sum\n",
            "Farm-to-table\n",
            "Global, International\n",
            "Comfort Food\n",
            "Basque\n",
            "International\n",
            "Barbecue\n",
            "Middle Eastern\n",
            "Southern\n",
            "French American\n",
            "Wine Bar\n",
            "Fondue\n",
            "Modern European\n",
            "Cocktail Bar\n",
            "Moroccan\n",
            "Contemporary European\n",
            "Caribbean\n",
            "Brewery\n",
            "Regional Mexican\n",
            "Pan-Asian\n",
            "Russian\n",
            "Continental\n",
            "Organic\n",
            "European\n",
            "Brazilian\n",
            "Nepalese\n",
            "Vegetarian / Vegan\n",
            "Burgers\n",
            "Mexican / Southwestern\n",
            "German\n",
            "Teppanyaki\n",
            "Bistro\n",
            "Cuban\n",
            "Irish\n",
            "Fusion / Eclectic\n",
            "Winery\n",
            "Contemporary French\n",
            "Pizza Bar\n",
            "Hungarian\n",
            "Vegan\n",
            "Pacific Rim\n",
            "Beer Garden\n",
            "Swiss\n",
            "Korean\n",
            "Creole\n",
            "Hawaiian\n",
            "Contemporary British\n",
            "Contemporary Korean\n",
            "Iraqi\n",
            "Argentinean\n",
            "Breakfast\n",
            "Oyster Bar\n",
            "Shabu-shabu\n",
            "Afghan\n",
            "Ethiopian\n",
            "Cajun\n",
            "Grill\n",
            "Eastern European\n",
            "Georgian\n",
            "Austrian\n",
            "Syrian\n",
            "Scandinavian\n",
            "Contemporary French / American\n",
            "Bavarian\n",
            "Laotian\n",
            "Contemporary Asian\n",
            "Shellfish\n",
            "Contemporary Italian\n",
            "Creole / Cajun / Southern\n",
            "Persian\n",
            "Sri Lankan\n",
            "Latin / Spanish\n"
          ],
          "name": "stdout"
        }
      ]
    },
    {
      "cell_type": "code",
      "metadata": {
        "colab": {
          "base_uri": "https://localhost:8080/",
          "height": 297
        },
        "id": "NfOVakYQ-HkP",
        "outputId": "9adae7c1-7958-4a06-8b40-6f8e8f911e81"
      },
      "source": [
        "bay_df.describe()"
      ],
      "execution_count": 80,
      "outputs": [
        {
          "output_type": "execute_result",
          "data": {
            "text/html": [
              "<div>\n",
              "<style scoped>\n",
              "    .dataframe tbody tr th:only-of-type {\n",
              "        vertical-align: middle;\n",
              "    }\n",
              "\n",
              "    .dataframe tbody tr th {\n",
              "        vertical-align: top;\n",
              "    }\n",
              "\n",
              "    .dataframe thead th {\n",
              "        text-align: right;\n",
              "    }\n",
              "</style>\n",
              "<table border=\"1\" class=\"dataframe\">\n",
              "  <thead>\n",
              "    <tr style=\"text-align: right;\">\n",
              "      <th></th>\n",
              "      <th>Rating</th>\n",
              "      <th>Review Count</th>\n",
              "      <th>Promoted</th>\n",
              "      <th>Price</th>\n",
              "      <th>Position</th>\n",
              "      <th>Median Household Income (USD)</th>\n",
              "    </tr>\n",
              "  </thead>\n",
              "  <tbody>\n",
              "    <tr>\n",
              "      <th>count</th>\n",
              "      <td>1069.000000</td>\n",
              "      <td>1069.000000</td>\n",
              "      <td>1069.000000</td>\n",
              "      <td>1069.000000</td>\n",
              "      <td>1069.000000</td>\n",
              "      <td>1070.000000</td>\n",
              "    </tr>\n",
              "    <tr>\n",
              "      <th>mean</th>\n",
              "      <td>4.375023</td>\n",
              "      <td>972.567820</td>\n",
              "      <td>0.008419</td>\n",
              "      <td>2.446211</td>\n",
              "      <td>528.013096</td>\n",
              "      <td>122426.355140</td>\n",
              "    </tr>\n",
              "    <tr>\n",
              "      <th>std</th>\n",
              "      <td>0.312629</td>\n",
              "      <td>1291.046278</td>\n",
              "      <td>0.091411</td>\n",
              "      <td>0.630199</td>\n",
              "      <td>556.455185</td>\n",
              "      <td>30037.251524</td>\n",
              "    </tr>\n",
              "    <tr>\n",
              "      <th>min</th>\n",
              "      <td>3.200000</td>\n",
              "      <td>50.000000</td>\n",
              "      <td>0.000000</td>\n",
              "      <td>2.000000</td>\n",
              "      <td>0.000000</td>\n",
              "      <td>36597.000000</td>\n",
              "    </tr>\n",
              "    <tr>\n",
              "      <th>25%</th>\n",
              "      <td>4.200000</td>\n",
              "      <td>161.000000</td>\n",
              "      <td>0.000000</td>\n",
              "      <td>2.000000</td>\n",
              "      <td>64.000000</td>\n",
              "      <td>111906.000000</td>\n",
              "    </tr>\n",
              "    <tr>\n",
              "      <th>50%</th>\n",
              "      <td>4.400000</td>\n",
              "      <td>509.000000</td>\n",
              "      <td>0.000000</td>\n",
              "      <td>2.000000</td>\n",
              "      <td>226.000000</td>\n",
              "      <td>112449.000000</td>\n",
              "    </tr>\n",
              "    <tr>\n",
              "      <th>75%</th>\n",
              "      <td>4.600000</td>\n",
              "      <td>1245.000000</td>\n",
              "      <td>0.000000</td>\n",
              "      <td>3.000000</td>\n",
              "      <td>1021.000000</td>\n",
              "      <td>128447.000000</td>\n",
              "    </tr>\n",
              "    <tr>\n",
              "      <th>max</th>\n",
              "      <td>5.000000</td>\n",
              "      <td>11620.000000</td>\n",
              "      <td>1.000000</td>\n",
              "      <td>4.000000</td>\n",
              "      <td>2398.000000</td>\n",
              "      <td>250001.000000</td>\n",
              "    </tr>\n",
              "  </tbody>\n",
              "</table>\n",
              "</div>"
            ],
            "text/plain": [
              "            Rating  Review Count  ...     Position  Median Household Income (USD)\n",
              "count  1069.000000   1069.000000  ...  1069.000000                    1070.000000\n",
              "mean      4.375023    972.567820  ...   528.013096                  122426.355140\n",
              "std       0.312629   1291.046278  ...   556.455185                   30037.251524\n",
              "min       3.200000     50.000000  ...     0.000000                   36597.000000\n",
              "25%       4.200000    161.000000  ...    64.000000                  111906.000000\n",
              "50%       4.400000    509.000000  ...   226.000000                  112449.000000\n",
              "75%       4.600000   1245.000000  ...  1021.000000                  128447.000000\n",
              "max       5.000000  11620.000000  ...  2398.000000                  250001.000000\n",
              "\n",
              "[8 rows x 6 columns]"
            ]
          },
          "metadata": {
            "tags": []
          },
          "execution_count": 80
        }
      ]
    },
    {
      "cell_type": "code",
      "metadata": {
        "colab": {
          "base_uri": "https://localhost:8080/",
          "height": 298
        },
        "id": "CI15cv9t-KcI",
        "outputId": "8cb572d4-a18b-4f04-cef9-f315a70abc98"
      },
      "source": [
        "bay_df.Rating.hist()\n",
        "plt.title('Distribution of Ratings')"
      ],
      "execution_count": 81,
      "outputs": [
        {
          "output_type": "execute_result",
          "data": {
            "text/plain": [
              "Text(0.5, 1.0, 'Distribution of Ratings')"
            ]
          },
          "metadata": {
            "tags": []
          },
          "execution_count": 81
        },
        {
          "output_type": "display_data",
          "data": {
            "image/png": "[encoded data removed]",
            "text/plain": [
              "<Figure size 432x288 with 1 Axes>"
            ]
          },
          "metadata": {
            "tags": [],
            "needs_background": "light"
          }
        }
      ]
    },
    {
      "cell_type": "markdown",
      "metadata": {
        "id": "kRJmpWxB-kdF"
      },
      "source": [
        "Here we can see that restaurant ratings are slightly skewed towards high 4s. Important to note that Open Table limits general ratings to the range of 3-5 stars."
      ]
    },
    {
      "cell_type": "code",
      "metadata": {
        "colab": {
          "base_uri": "https://localhost:8080/"
        },
        "id": "n9knk8Yn_PTO",
        "outputId": "803ebf7f-aa56-4014-f2b5-9130c107bd91"
      },
      "source": [
        "bay_df.columns"
      ],
      "execution_count": 82,
      "outputs": [
        {
          "output_type": "execute_result",
          "data": {
            "text/plain": [
              "Index(['Name', 'City', 'Rating', 'Review Count', 'Promoted', 'Price',\n",
              "       'Cuisine', 'Position', 'Median Household Income (USD)'],\n",
              "      dtype='object')"
            ]
          },
          "metadata": {
            "tags": []
          },
          "execution_count": 82
        }
      ]
    },
    {
      "cell_type": "code",
      "metadata": {
        "colab": {
          "base_uri": "https://localhost:8080/",
          "height": 453
        },
        "id": "Fee903WiEPSc",
        "outputId": "56309d42-a64c-4a39-bb6d-a140c44b7e17"
      },
      "source": [
        "# Create df of quantitative features for heatmap\n",
        "\n",
        "corr_df = bay_df[['Rating', 'Review Count', 'Promoted', 'Price', 'Position', 'Median Household Income (USD)']].corr()\n",
        "\n",
        "cmap = sns.diverging_palette(270, 10, as_cmap=True)\n",
        "sns.heatmap(corr_df, vmax=.3, center=0, cmap=cmap, square=True, linewidths=.7)\n",
        "plt.title('HeatMap')"
      ],
      "execution_count": 83,
      "outputs": [
        {
          "output_type": "execute_result",
          "data": {
            "text/plain": [
              "Text(0.5, 1.0, 'HeatMap')"
            ]
          },
          "metadata": {
            "tags": []
          },
          "execution_count": 83
        },
        {
          "output_type": "display_data",
          "data": {
            "image/png": "[encoded data removed]",
            "text/plain": [
              "<Figure size 432x288 with 2 Axes>"
            ]
          },
          "metadata": {
            "tags": [],
            "needs_background": "light"
          }
        }
      ]
    },
    {
      "cell_type": "code",
      "metadata": {
        "colab": {
          "base_uri": "https://localhost:8080/",
          "height": 723
        },
        "id": "aX6R-c5dS4bb",
        "outputId": "8bb95dde-2239-47e1-8f94-e737f1cb1838"
      },
      "source": [
        "# Create bar plots for categorical features\n",
        "\n",
        "df_cat = bay_df[['City', 'Cuisine']]\n",
        "\n",
        "for i in df_cat.columns:\n",
        "  count = df_cat[i].value_counts()[:20]\n",
        "  print(\"Top 20 Bar Plot for %s: total = %d\" % (i, len(df_cat[i].value_counts())))\n",
        "  plot = sns.barplot(x = count.index, y = count)\n",
        "  plot.set_xticklabels(plot.get_xticklabels(), rotation = 90)\n",
        "  plt.show()"
      ],
      "execution_count": 84,
      "outputs": [
        {
          "output_type": "stream",
          "text": [
            "Top 20 Bar Plot for City: total = 72\n"
          ],
          "name": "stdout"
        },
        {
          "output_type": "display_data",
          "data": {
            "image/png": "[encoded data removed]",
            "text/plain": [
              "<Figure size 432x288 with 1 Axes>"
            ]
          },
          "metadata": {
            "tags": [],
            "needs_background": "light"
          }
        },
        {
          "output_type": "stream",
          "text": [
            "Top 20 Bar Plot for Cuisine: total = 101\n"
          ],
          "name": "stdout"
        },
        {
          "output_type": "display_data",
          "data": {
            "image/png": "[encoded data removed]",
            "text/plain": [
              "<Figure size 432x288 with 1 Axes>"
            ]
          },
          "metadata": {
            "tags": [],
            "needs_background": "light"
          }
        }
      ]
    },
    {
      "cell_type": "code",
      "metadata": {
        "id": "pRHghZHYYHMi"
      },
      "source": [
        "# df of average ratings for 20 most popular cuisines\n",
        "\n",
        "cuisine_20 = np.array(bay_df['Cuisine'].value_counts()[:20].index)\n",
        "cuisine20_df = bay_df[['Cuisine', 'Rating']][bay_df['Cuisine'].isin(cuisine_20)]\n",
        "\n",
        "# df of average ratings for 20 most popular cities\n",
        "\n",
        "city_20 = np.array(bay_df['City'].value_counts()[:20].index)\n",
        "city20_df = bay_df[['City', 'Rating']][bay_df['City'].isin(city_20)]"
      ],
      "execution_count": 85,
      "outputs": []
    },
    {
      "cell_type": "markdown",
      "metadata": {
        "id": "G8KmbUFd5-lq"
      },
      "source": [
        "Unsurprisingly, San Francisco hosts more OpenTable-registered restaurants than any other bay area city. Italian and American cuisines lead."
      ]
    },
    {
      "cell_type": "code",
      "metadata": {
        "colab": {
          "base_uri": "https://localhost:8080/",
          "height": 700
        },
        "id": "-tcME3UB6inM",
        "outputId": "d2af18a7-aa93-46af-c516-a39cc5b23b41"
      },
      "source": [
        "# pivot table for 20 most popular cuisines\n",
        "\n",
        "pd.pivot_table(cuisine20_df, index = 'Cuisine', values = 'Rating').sort_values(by='Rating')"
      ],
      "execution_count": 86,
      "outputs": [
        {
          "output_type": "execute_result",
          "data": {
            "text/html": [
              "<div>\n",
              "<style scoped>\n",
              "    .dataframe tbody tr th:only-of-type {\n",
              "        vertical-align: middle;\n",
              "    }\n",
              "\n",
              "    .dataframe tbody tr th {\n",
              "        vertical-align: top;\n",
              "    }\n",
              "\n",
              "    .dataframe thead th {\n",
              "        text-align: right;\n",
              "    }\n",
              "</style>\n",
              "<table border=\"1\" class=\"dataframe\">\n",
              "  <thead>\n",
              "    <tr style=\"text-align: right;\">\n",
              "      <th></th>\n",
              "      <th>Rating</th>\n",
              "    </tr>\n",
              "    <tr>\n",
              "      <th>Cuisine</th>\n",
              "      <th></th>\n",
              "    </tr>\n",
              "  </thead>\n",
              "  <tbody>\n",
              "    <tr>\n",
              "      <th>Asian</th>\n",
              "      <td>4.123077</td>\n",
              "    </tr>\n",
              "    <tr>\n",
              "      <th>Mexican</th>\n",
              "      <td>4.206452</td>\n",
              "    </tr>\n",
              "    <tr>\n",
              "      <th>Indian</th>\n",
              "      <td>4.206667</td>\n",
              "    </tr>\n",
              "    <tr>\n",
              "      <th>Peruvian</th>\n",
              "      <td>4.284615</td>\n",
              "    </tr>\n",
              "    <tr>\n",
              "      <th>American</th>\n",
              "      <td>4.298601</td>\n",
              "    </tr>\n",
              "    <tr>\n",
              "      <th>Thai</th>\n",
              "      <td>4.314286</td>\n",
              "    </tr>\n",
              "    <tr>\n",
              "      <th>Brazilian Steakhouse</th>\n",
              "      <td>4.325000</td>\n",
              "    </tr>\n",
              "    <tr>\n",
              "      <th>Seafood</th>\n",
              "      <td>4.359322</td>\n",
              "    </tr>\n",
              "    <tr>\n",
              "      <th>Californian</th>\n",
              "      <td>4.359341</td>\n",
              "    </tr>\n",
              "    <tr>\n",
              "      <th>Contemporary American</th>\n",
              "      <td>4.371698</td>\n",
              "    </tr>\n",
              "    <tr>\n",
              "      <th>Steakhouse</th>\n",
              "      <td>4.390909</td>\n",
              "    </tr>\n",
              "    <tr>\n",
              "      <th>Chinese</th>\n",
              "      <td>4.400000</td>\n",
              "    </tr>\n",
              "    <tr>\n",
              "      <th>Japanese</th>\n",
              "      <td>4.404000</td>\n",
              "    </tr>\n",
              "    <tr>\n",
              "      <th>Greek</th>\n",
              "      <td>4.427273</td>\n",
              "    </tr>\n",
              "    <tr>\n",
              "      <th>Mediterranean</th>\n",
              "      <td>4.436111</td>\n",
              "    </tr>\n",
              "    <tr>\n",
              "      <th>French</th>\n",
              "      <td>4.437209</td>\n",
              "    </tr>\n",
              "    <tr>\n",
              "      <th>Tapas / Small Plates</th>\n",
              "      <td>4.457143</td>\n",
              "    </tr>\n",
              "    <tr>\n",
              "      <th>Italian</th>\n",
              "      <td>4.468900</td>\n",
              "    </tr>\n",
              "    <tr>\n",
              "      <th>Sushi</th>\n",
              "      <td>4.481818</td>\n",
              "    </tr>\n",
              "    <tr>\n",
              "      <th>Spanish</th>\n",
              "      <td>4.483333</td>\n",
              "    </tr>\n",
              "  </tbody>\n",
              "</table>\n",
              "</div>"
            ],
            "text/plain": [
              "                         Rating\n",
              "Cuisine                        \n",
              "Asian                  4.123077\n",
              "Mexican                4.206452\n",
              "Indian                 4.206667\n",
              "Peruvian               4.284615\n",
              "American               4.298601\n",
              "Thai                   4.314286\n",
              "Brazilian Steakhouse   4.325000\n",
              "Seafood                4.359322\n",
              "Californian            4.359341\n",
              "Contemporary American  4.371698\n",
              "Steakhouse             4.390909\n",
              "Chinese                4.400000\n",
              "Japanese               4.404000\n",
              "Greek                  4.427273\n",
              "Mediterranean          4.436111\n",
              "French                 4.437209\n",
              "Tapas / Small Plates   4.457143\n",
              "Italian                4.468900\n",
              "Sushi                  4.481818\n",
              "Spanish                4.483333"
            ]
          },
          "metadata": {
            "tags": []
          },
          "execution_count": 86
        }
      ]
    },
    {
      "cell_type": "code",
      "metadata": {
        "colab": {
          "base_uri": "https://localhost:8080/",
          "height": 700
        },
        "id": "TKya9pmnW2zE",
        "outputId": "284cf17c-3662-4478-9d19-ab1ba33d1484"
      },
      "source": [
        "# pivot table for 20 most popular cities\n",
        "\n",
        "pd.pivot_table(city20_df, index = 'City', values = 'Rating').sort_values(by='Rating')"
      ],
      "execution_count": 87,
      "outputs": [
        {
          "output_type": "execute_result",
          "data": {
            "text/html": [
              "<div>\n",
              "<style scoped>\n",
              "    .dataframe tbody tr th:only-of-type {\n",
              "        vertical-align: middle;\n",
              "    }\n",
              "\n",
              "    .dataframe tbody tr th {\n",
              "        vertical-align: top;\n",
              "    }\n",
              "\n",
              "    .dataframe thead th {\n",
              "        text-align: right;\n",
              "    }\n",
              "</style>\n",
              "<table border=\"1\" class=\"dataframe\">\n",
              "  <thead>\n",
              "    <tr style=\"text-align: right;\">\n",
              "      <th></th>\n",
              "      <th>Rating</th>\n",
              "    </tr>\n",
              "    <tr>\n",
              "      <th>City</th>\n",
              "      <th></th>\n",
              "    </tr>\n",
              "  </thead>\n",
              "  <tbody>\n",
              "    <tr>\n",
              "      <th>Livermore</th>\n",
              "      <td>4.240000</td>\n",
              "    </tr>\n",
              "    <tr>\n",
              "      <th>Pleasanton</th>\n",
              "      <td>4.259091</td>\n",
              "    </tr>\n",
              "    <tr>\n",
              "      <th>Berkeley</th>\n",
              "      <td>4.266667</td>\n",
              "    </tr>\n",
              "    <tr>\n",
              "      <th>Campbell</th>\n",
              "      <td>4.328571</td>\n",
              "    </tr>\n",
              "    <tr>\n",
              "      <th>San Jose</th>\n",
              "      <td>4.334545</td>\n",
              "    </tr>\n",
              "    <tr>\n",
              "      <th>Oakland</th>\n",
              "      <td>4.339583</td>\n",
              "    </tr>\n",
              "    <tr>\n",
              "      <th>Burlingame</th>\n",
              "      <td>4.360870</td>\n",
              "    </tr>\n",
              "    <tr>\n",
              "      <th>Walnut Creek</th>\n",
              "      <td>4.364865</td>\n",
              "    </tr>\n",
              "    <tr>\n",
              "      <th>San Carlos</th>\n",
              "      <td>4.368750</td>\n",
              "    </tr>\n",
              "    <tr>\n",
              "      <th>San Mateo</th>\n",
              "      <td>4.373913</td>\n",
              "    </tr>\n",
              "    <tr>\n",
              "      <th>Redwood City</th>\n",
              "      <td>4.375000</td>\n",
              "    </tr>\n",
              "    <tr>\n",
              "      <th>Mountain View</th>\n",
              "      <td>4.393333</td>\n",
              "    </tr>\n",
              "    <tr>\n",
              "      <th>Danville</th>\n",
              "      <td>4.400000</td>\n",
              "    </tr>\n",
              "    <tr>\n",
              "      <th>Los Gatos</th>\n",
              "      <td>4.400000</td>\n",
              "    </tr>\n",
              "    <tr>\n",
              "      <th>Sausalito</th>\n",
              "      <td>4.406667</td>\n",
              "    </tr>\n",
              "    <tr>\n",
              "      <th>San Francisco</th>\n",
              "      <td>4.406846</td>\n",
              "    </tr>\n",
              "    <tr>\n",
              "      <th>Palo Alto</th>\n",
              "      <td>4.414286</td>\n",
              "    </tr>\n",
              "    <tr>\n",
              "      <th>Alameda</th>\n",
              "      <td>4.420000</td>\n",
              "    </tr>\n",
              "    <tr>\n",
              "      <th>Santa Clara</th>\n",
              "      <td>4.446154</td>\n",
              "    </tr>\n",
              "    <tr>\n",
              "      <th>Menlo Park</th>\n",
              "      <td>4.625000</td>\n",
              "    </tr>\n",
              "  </tbody>\n",
              "</table>\n",
              "</div>"
            ],
            "text/plain": [
              "                 Rating\n",
              "City                   \n",
              "Livermore      4.240000\n",
              "Pleasanton     4.259091\n",
              "Berkeley       4.266667\n",
              "Campbell       4.328571\n",
              "San Jose       4.334545\n",
              "Oakland        4.339583\n",
              "Burlingame     4.360870\n",
              "Walnut Creek   4.364865\n",
              "San Carlos     4.368750\n",
              "San Mateo      4.373913\n",
              "Redwood City   4.375000\n",
              "Mountain View  4.393333\n",
              "Danville       4.400000\n",
              "Los Gatos      4.400000\n",
              "Sausalito      4.406667\n",
              "San Francisco  4.406846\n",
              "Palo Alto      4.414286\n",
              "Alameda        4.420000\n",
              "Santa Clara    4.446154\n",
              "Menlo Park     4.625000"
            ]
          },
          "metadata": {
            "tags": []
          },
          "execution_count": 87
        }
      ]
    },
    {
      "cell_type": "code",
      "metadata": {
        "colab": {
          "base_uri": "https://localhost:8080/"
        },
        "id": "bFDvynW1et5_",
        "outputId": "5f63af75-7d8b-4f4d-ed38-992ee31e9126"
      },
      "source": [
        "bay_df.columns"
      ],
      "execution_count": 88,
      "outputs": [
        {
          "output_type": "execute_result",
          "data": {
            "text/plain": [
              "Index(['Name', 'City', 'Rating', 'Review Count', 'Promoted', 'Price',\n",
              "       'Cuisine', 'Position', 'Median Household Income (USD)'],\n",
              "      dtype='object')"
            ]
          },
          "metadata": {
            "tags": []
          },
          "execution_count": 88
        }
      ]
    },
    {
      "cell_type": "code",
      "metadata": {
        "colab": {
          "base_uri": "https://localhost:8080/"
        },
        "id": "QOklht6oeyUW",
        "outputId": "dec051c3-8a00-4432-e50c-30ca50c31be2"
      },
      "source": [
        "pivots = ['Promoted', 'Price']\n",
        "for p in pivots:\n",
        "  print(p)\n",
        "  print(pd.pivot_table(bay_df, index=p, values = 'Rating').sort_values('Rating'))"
      ],
      "execution_count": 89,
      "outputs": [
        {
          "output_type": "stream",
          "text": [
            "Promoted\n",
            "            Rating\n",
            "Promoted          \n",
            "0.0       4.374528\n",
            "1.0       4.433333\n",
            "Price\n",
            "         Rating\n",
            "Price          \n",
            "2.0    4.326786\n",
            "3.0    4.448896\n",
            "4.0    4.487500\n"
          ],
          "name": "stdout"
        }
      ]
    }
  ]
}